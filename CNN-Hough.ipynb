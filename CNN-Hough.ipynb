{
 "cells": [
  {
   "cell_type": "code",
   "execution_count": 1,
   "metadata": {
    "collapsed": false
   },
   "outputs": [
    {
     "name": "stderr",
     "output_type": "stream",
     "text": [
      "/home/cordeiro/env/py3im/lib/python3.6/site-packages/h5py/__init__.py:36: FutureWarning: Conversion of the second argument of issubdtype from `float` to `np.floating` is deprecated. In future, it will be treated as `np.float64 == np.dtype(float).type`.\n",
      "  from ._conv import register_converters as _register_converters\n",
      "Using TensorFlow backend.\n"
     ]
    }
   ],
   "source": [
    "from matplotlib import pyplot as plt \n",
    "#from lines_generator import *\n",
    "#from hough import *\n",
    "import numpy as np\n",
    "import cv2\n",
    "import keras"
   ]
  },
  {
   "cell_type": "markdown",
   "metadata": {},
   "source": [
    "# Data"
   ]
  },
  {
   "cell_type": "code",
   "execution_count": 2,
   "metadata": {
    "collapsed": false
   },
   "outputs": [
    {
     "name": "stdout",
     "output_type": "stream",
     "text": [
      "(19702, 17, 17, 1) (19702, 2)\n",
      "CPU times: user 842 ms, sys: 56 ms, total: 898 ms\n",
      "Wall time: 900 ms\n"
     ]
    }
   ],
   "source": [
    "%%time\n",
    "\n",
    "n = 50\n",
    "Y = list()\n",
    "patches = list()\n",
    "\n",
    "#load all patches\n",
    "for i in range(n):\n",
    "    Y  += np.load('data/Y'+str(i+1)+'.npy').tolist()\n",
    "    patches += np.load('data/patches'+str(i+1)+'.npy').tolist()\n",
    "\n",
    "#add inverse\n",
    "Y = [[yi,int(not yi)] for yi in Y] \n",
    "\n",
    "#to numpy\n",
    "Y = np.array(Y).astype('uint8')\n",
    "patches = np.array(patches).astype('uint16')\n",
    "\n",
    "#add color dimension\n",
    "patches = np.expand_dims(patches, axis=3)\n",
    "\n",
    "print(patches.shape, Y.shape)"
   ]
  },
  {
   "cell_type": "markdown",
   "metadata": {},
   "source": [
    "__x_train e x_test__"
   ]
  },
  {
   "cell_type": "code",
   "execution_count": 3,
   "metadata": {
    "collapsed": true
   },
   "outputs": [],
   "source": [
    "from sklearn.model_selection import train_test_split\n",
    "\n",
    "x_train, x_test, y_train, y_test = train_test_split(patches, Y, test_size=0.20, random_state=42)"
   ]
  },
  {
   "cell_type": "markdown",
   "metadata": {},
   "source": [
    "# CNN"
   ]
  },
  {
   "cell_type": "code",
   "execution_count": 4,
   "metadata": {
    "collapsed": false
   },
   "outputs": [],
   "source": [
    "from keras import Sequential\n",
    "from keras.layers import  Conv2D, MaxPooling2D, Flatten, Dense"
   ]
  },
  {
   "cell_type": "code",
   "execution_count": 5,
   "metadata": {
    "collapsed": true
   },
   "outputs": [],
   "source": [
    "patche_size = patches.shape[1]\n",
    "input_shape = (patche_size,patche_size,1)\n",
    "num_classes = 2"
   ]
  },
  {
   "cell_type": "code",
   "execution_count": 6,
   "metadata": {
    "collapsed": false
   },
   "outputs": [],
   "source": [
    "model = Sequential()\n",
    "model.add(Conv2D(32, kernel_size=(5, 5), strides=(1, 1),\n",
    "                 activation='relu',\n",
    "                 input_shape=input_shape))\n",
    "model.add(MaxPooling2D(pool_size=(2, 2), strides=(2, 2)))\n",
    "model.add(Conv2D(64, (3, 3), activation='relu'))\n",
    "model.add(MaxPooling2D(pool_size=(2, 2)))\n",
    "model.add(Flatten())\n",
    "model.add(Dense(1000, activation='relu'))\n",
    "model.add(Dense(num_classes, activation='softmax'))"
   ]
  },
  {
   "cell_type": "code",
   "execution_count": 7,
   "metadata": {
    "collapsed": true
   },
   "outputs": [],
   "source": [
    "model.compile(optimizer='rmsprop',\n",
    "              loss='categorical_crossentropy',\n",
    "              metrics=['accuracy'])"
   ]
  },
  {
   "cell_type": "markdown",
   "metadata": {
    "collapsed": true
   },
   "source": [
    "## Train"
   ]
  },
  {
   "cell_type": "code",
   "execution_count": 8,
   "metadata": {
    "collapsed": false
   },
   "outputs": [
    {
     "name": "stdout",
     "output_type": "stream",
     "text": [
      "Epoch 1/10\n",
      "15761/15761 [==============================] - 4s 252us/step - loss: 3.6192 - acc: 0.7691\n",
      "Epoch 2/10\n",
      "15761/15761 [==============================] - 4s 251us/step - loss: 3.6335 - acc: 0.7746\n",
      "Epoch 3/10\n",
      "15761/15761 [==============================] - 4s 262us/step - loss: 3.6335 - acc: 0.7746\n",
      "Epoch 4/10\n",
      "15761/15761 [==============================] - 4s 266us/step - loss: 3.6335 - acc: 0.7746\n",
      "Epoch 5/10\n",
      "15761/15761 [==============================] - 4s 249us/step - loss: 3.6335 - acc: 0.7746\n",
      "Epoch 6/10\n",
      "15761/15761 [==============================] - 4s 249us/step - loss: 3.6335 - acc: 0.7746\n",
      "Epoch 7/10\n",
      "15761/15761 [==============================] - 4s 248us/step - loss: 3.6335 - acc: 0.7746\n",
      "Epoch 8/10\n",
      "15761/15761 [==============================] - 4s 259us/step - loss: 3.6335 - acc: 0.7746\n",
      "Epoch 9/10\n",
      "15761/15761 [==============================] - 5s 291us/step - loss: 3.6335 - acc: 0.7746\n",
      "Epoch 10/10\n",
      "15761/15761 [==============================] - 4s 277us/step - loss: 3.6335 - acc: 0.7746\n"
     ]
    },
    {
     "data": {
      "text/plain": [
       "<keras.callbacks.History at 0x7f363d549710>"
      ]
     },
     "execution_count": 8,
     "metadata": {},
     "output_type": "execute_result"
    }
   ],
   "source": [
    "model.fit(x_train, y_train,\n",
    "          epochs=10,\n",
    "          batch_size=128)"
   ]
  },
  {
   "cell_type": "markdown",
   "metadata": {},
   "source": [
    "## Evaluate"
   ]
  },
  {
   "cell_type": "code",
   "execution_count": 10,
   "metadata": {
    "collapsed": false
   },
   "outputs": [
    {
     "name": "stdout",
     "output_type": "stream",
     "text": [
      "3941/3941 [==============================] - 0s 94us/step\n"
     ]
    }
   ],
   "source": [
    "score = model.evaluate(x_test, y_test, batch_size=128)\n",
    "score"
   ]
  },
  {
   "cell_type": "code",
   "execution_count": 24,
   "metadata": {
    "collapsed": false
   },
   "outputs": [
    {
     "data": {
      "text/plain": [
       "1.0"
      ]
     },
     "execution_count": 24,
     "metadata": {},
     "output_type": "execute_result"
    }
   ],
   "source": [
    "pred_test = model.predict(x_test)\n",
    "pred_test[:,1].mean()"
   ]
  },
  {
   "cell_type": "code",
   "execution_count": null,
   "metadata": {
    "collapsed": true
   },
   "outputs": [],
   "source": []
  }
 ],
 "metadata": {
  "kernelspec": {
   "display_name": "py3im",
   "language": "python",
   "name": "py3im"
  },
  "language_info": {
   "codemirror_mode": {
    "name": "ipython",
    "version": 3
   },
   "file_extension": ".py",
   "mimetype": "text/x-python",
   "name": "python",
   "nbconvert_exporter": "python",
   "pygments_lexer": "ipython3",
   "version": "3.6.3"
  }
 },
 "nbformat": 4,
 "nbformat_minor": 2
}

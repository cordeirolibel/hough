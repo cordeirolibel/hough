{
 "cells": [
  {
   "cell_type": "code",
   "execution_count": 1,
   "metadata": {},
   "outputs": [
    {
     "name": "stderr",
     "output_type": "stream",
     "text": [
      "Using TensorFlow backend.\n"
     ]
    }
   ],
   "source": [
    "from lines_generator import dataGenerator\n",
    "import numpy as np\n",
    "import keras\n",
    "from keras import Sequential\n",
    "from keras.layers import Dense,Conv2D, MaxPooling2D, Flatten"
   ]
  },
  {
   "cell_type": "code",
   "execution_count": 2,
   "metadata": {},
   "outputs": [],
   "source": [
    "patche_size = 17\n",
    "input_dim = patche_size**2\n",
    "num_classes = 2"
   ]
  },
  {
   "cell_type": "markdown",
   "metadata": {
    "collapsed": true
   },
   "source": [
    "## ANN Train\n",
    "Generator"
   ]
  },
  {
   "cell_type": "code",
   "execution_count": 3,
   "metadata": {},
   "outputs": [],
   "source": [
    "gen_train = dataGenerator(500,'train',prob_peaks=0.2,prob_near_peaks=0.6)\n",
    "gen_test = dataGenerator(100,'test',prob_peaks=0.2,prob_near_peaks=0.6)"
   ]
  },
  {
   "cell_type": "markdown",
   "metadata": {},
   "source": [
    "__activations:__ = relu - softmax - sigmoid"
   ]
  },
  {
   "cell_type": "code",
   "execution_count": 4,
   "metadata": {},
   "outputs": [],
   "source": [
    "# create model\n",
    "model = Sequential()\n",
    "model.add(Dense(350, input_dim=input_dim, activation='sigmoid'))\n",
    "model.add(Dense(250, input_dim=input_dim, activation='sigmoid'))\n",
    "model.add(Dense(2, activation='softmax'))"
   ]
  },
  {
   "cell_type": "markdown",
   "metadata": {},
   "source": [
    "https://keras.io/models/model/ $\\ \\ \\ $ https://keras.io/optimizers/ $\\ \\ \\ $ https://keras.io/losses/  <br>\n",
    "__optimizer:__ SGD - RMSprop - Adagrad - Adadelta - Adam - Adamax - Nadam - TFOptimizer. <br>\n",
    "__loss:__ mean_squared_error - mean_absolute_error - mean_absolute_percentage_error - mean_squared_logarithmic_error - squared_hinge - hinge - categorical_hinge - logcosh - categorical_crossentropy - sparse_categorical_crossentropy - binary_crossentropy - kullback_leibler_divergence - poisson - cosine_proximity."
   ]
  },
  {
   "cell_type": "code",
   "execution_count": 5,
   "metadata": {},
   "outputs": [],
   "source": [
    "model.compile(optimizer='Adamax',\n",
    "              loss='binary_crossentropy',\n",
    "              metrics=['accuracy'])"
   ]
  },
  {
   "cell_type": "code",
   "execution_count": 6,
   "metadata": {},
   "outputs": [
    {
     "name": "stderr",
     "output_type": "stream",
     "text": [
      "/home/cordeiro/env/py3im/lib/python3.6/site-packages/ipykernel_launcher.py:1: UserWarning: The semantics of the Keras 2 argument `steps_per_epoch` is not the same as the Keras 1 argument `samples_per_epoch`. `steps_per_epoch` is the number of batches to draw from the generator at each epoch. Basically steps_per_epoch = samples_per_epoch/batch_size. Similarly `nb_val_samples`->`validation_steps` and `val_samples`->`steps` arguments have changed. Update your method calls accordingly.\n",
      "  \"\"\"Entry point for launching an IPython kernel.\n",
      "/home/cordeiro/env/py3im/lib/python3.6/site-packages/ipykernel_launcher.py:1: UserWarning: Update your `fit_generator` call to the Keras 2 API: `fit_generator(<generator..., steps_per_epoch=1024, epochs=50)`\n",
      "  \"\"\"Entry point for launching an IPython kernel.\n"
     ]
    },
    {
     "name": "stdout",
     "output_type": "stream",
     "text": [
      "Epoch 1/50\n",
      "1024/1024 [==============================] - 436s 425ms/step - loss: 0.2262 - acc: 0.8980\n",
      "Epoch 2/50\n",
      "1024/1024 [==============================] - 381s 372ms/step - loss: 0.1822 - acc: 0.9214\n",
      "Epoch 3/50\n",
      "1024/1024 [==============================] - 368s 359ms/step - loss: 0.1799 - acc: 0.9227\n",
      "Epoch 4/50\n",
      "1024/1024 [==============================] - 363s 355ms/step - loss: 0.1673 - acc: 0.9284\n",
      "Epoch 5/50\n",
      "1024/1024 [==============================] - 391s 382ms/step - loss: 0.1705 - acc: 0.9276\n",
      "Epoch 6/50\n",
      "1024/1024 [==============================] - 359s 351ms/step - loss: 0.1609 - acc: 0.9304\n",
      "Epoch 7/50\n",
      "1024/1024 [==============================] - 381s 372ms/step - loss: 0.1575 - acc: 0.9348\n",
      "Epoch 8/50\n",
      "1024/1024 [==============================] - 357s 349ms/step - loss: 0.1575 - acc: 0.9324\n",
      "Epoch 9/50\n",
      "1024/1024 [==============================] - 375s 366ms/step - loss: 0.1586 - acc: 0.9341\n",
      "Epoch 10/50\n",
      "1024/1024 [==============================] - 379s 370ms/step - loss: 0.1614 - acc: 0.9305\n",
      "Epoch 11/50\n",
      "1024/1024 [==============================] - 369s 360ms/step - loss: 0.1462 - acc: 0.9393\n",
      "Epoch 12/50\n",
      "1024/1024 [==============================] - 377s 368ms/step - loss: 0.1540 - acc: 0.9352\n",
      "Epoch 13/50\n",
      "1024/1024 [==============================] - 375s 366ms/step - loss: 0.1561 - acc: 0.9325\n",
      "Epoch 14/50\n",
      "1024/1024 [==============================] - 377s 368ms/step - loss: 0.1546 - acc: 0.9346\n",
      "Epoch 15/50\n",
      "1024/1024 [==============================] - 364s 355ms/step - loss: 0.1554 - acc: 0.9341\n",
      "Epoch 16/50\n",
      "1024/1024 [==============================] - 377s 368ms/step - loss: 0.1480 - acc: 0.9367\n",
      "Epoch 17/50\n",
      "1024/1024 [==============================] - 371s 362ms/step - loss: 0.1517 - acc: 0.9348\n",
      "Epoch 18/50\n",
      "1024/1024 [==============================] - 376s 367ms/step - loss: 0.1577 - acc: 0.9326\n",
      "Epoch 19/50\n",
      "1024/1024 [==============================] - 376s 367ms/step - loss: 0.1635 - acc: 0.9312\n",
      "Epoch 20/50\n",
      "1024/1024 [==============================] - 366s 358ms/step - loss: 0.1543 - acc: 0.9341\n",
      "Epoch 21/50\n",
      "1024/1024 [==============================] - 380s 371ms/step - loss: 0.1548 - acc: 0.9349\n",
      "Epoch 22/50\n",
      "1024/1024 [==============================] - 386s 376ms/step - loss: 0.1582 - acc: 0.9340\n",
      "Epoch 23/50\n",
      "1024/1024 [==============================] - 366s 358ms/step - loss: 0.1524 - acc: 0.9355\n",
      "Epoch 24/50\n",
      "1024/1024 [==============================] - 372s 363ms/step - loss: 0.1570 - acc: 0.9348\n",
      "Epoch 25/50\n",
      "1024/1024 [==============================] - 368s 359ms/step - loss: 0.1588 - acc: 0.9325\n",
      "Epoch 26/50\n",
      "1024/1024 [==============================] - 373s 364ms/step - loss: 0.1513 - acc: 0.9370\n",
      "Epoch 27/50\n",
      "1024/1024 [==============================] - 366s 358ms/step - loss: 0.1520 - acc: 0.9356\n",
      "Epoch 28/50\n",
      "1024/1024 [==============================] - 369s 360ms/step - loss: 0.1581 - acc: 0.9324\n",
      "Epoch 29/50\n",
      "1024/1024 [==============================] - 373s 364ms/step - loss: 0.1490 - acc: 0.9374\n",
      "Epoch 30/50\n",
      "1024/1024 [==============================] - 388s 379ms/step - loss: 0.1435 - acc: 0.9387\n",
      "Epoch 31/50\n",
      "1024/1024 [==============================] - 387s 377ms/step - loss: 0.1481 - acc: 0.9385\n",
      "Epoch 32/50\n",
      "1024/1024 [==============================] - 367s 358ms/step - loss: 0.1580 - acc: 0.9346\n",
      "Epoch 33/50\n",
      "1024/1024 [==============================] - 365s 357ms/step - loss: 0.1495 - acc: 0.9382\n",
      "Epoch 34/50\n",
      "1024/1024 [==============================] - 392s 383ms/step - loss: 0.1435 - acc: 0.9406\n",
      "Epoch 35/50\n",
      "1024/1024 [==============================] - 379s 370ms/step - loss: 0.1571 - acc: 0.9330\n",
      "Epoch 36/50\n",
      "1024/1024 [==============================] - 382s 373ms/step - loss: 0.1492 - acc: 0.9393\n",
      "Epoch 37/50\n",
      "1024/1024 [==============================] - 380s 371ms/step - loss: 0.1530 - acc: 0.9358\n",
      "Epoch 38/50\n",
      "1024/1024 [==============================] - 383s 374ms/step - loss: 0.1444 - acc: 0.9401\n",
      "Epoch 39/50\n",
      "1024/1024 [==============================] - 368s 359ms/step - loss: 0.1443 - acc: 0.9375\n",
      "Epoch 40/50\n",
      "1024/1024 [==============================] - 429s 419ms/step - loss: 0.1510 - acc: 0.9366\n",
      "Epoch 41/50\n",
      "1024/1024 [==============================] - 386s 377ms/step - loss: 0.1474 - acc: 0.9374\n",
      "Epoch 42/50\n",
      "1024/1024 [==============================] - 382s 373ms/step - loss: 0.1482 - acc: 0.9374\n",
      "Epoch 43/50\n",
      "1024/1024 [==============================] - 367s 359ms/step - loss: 0.1439 - acc: 0.9404\n",
      "Epoch 44/50\n",
      "1024/1024 [==============================] - 379s 370ms/step - loss: 0.1468 - acc: 0.9393\n",
      "Epoch 45/50\n",
      "1024/1024 [==============================] - 398s 388ms/step - loss: 0.1504 - acc: 0.9386\n",
      "Epoch 46/50\n",
      "1024/1024 [==============================] - 392s 382ms/step - loss: 0.1496 - acc: 0.9380\n",
      "Epoch 47/50\n",
      "1024/1024 [==============================] - 407s 398ms/step - loss: 0.1566 - acc: 0.9348\n",
      "Epoch 48/50\n",
      "1024/1024 [==============================] - 434s 424ms/step - loss: 0.1434 - acc: 0.9394\n",
      "Epoch 49/50\n",
      "1024/1024 [==============================] - 396s 386ms/step - loss: 0.1429 - acc: 0.9425\n",
      "Epoch 50/50\n",
      "1024/1024 [==============================] - 410s 401ms/step - loss: 0.1405 - acc: 0.9444\n"
     ]
    },
    {
     "data": {
      "text/plain": [
       "<keras.callbacks.History at 0x7f166f428fd0>"
      ]
     },
     "execution_count": 6,
     "metadata": {},
     "output_type": "execute_result"
    }
   ],
   "source": [
    "model.fit_generator(gen_train, samples_per_epoch=1024, nb_epoch=50)"
   ]
  },
  {
   "cell_type": "code",
   "execution_count": 7,
   "metadata": {},
   "outputs": [
    {
     "data": {
      "text/plain": [
       "[0.14122908004810597, 0.94268798828125]"
      ]
     },
     "execution_count": 7,
     "metadata": {},
     "output_type": "execute_result"
    }
   ],
   "source": [
    "score = model.evaluate_generator(gen_test,steps=1024)\n",
    "score"
   ]
  },
  {
   "cell_type": "markdown",
   "metadata": {
    "collapsed": true
   },
   "source": [
    "## Save"
   ]
  },
  {
   "cell_type": "code",
   "execution_count": 8,
   "metadata": {},
   "outputs": [],
   "source": [
    "model.save('models/model4.h5')"
   ]
  },
  {
   "cell_type": "code",
   "execution_count": null,
   "metadata": {
    "collapsed": true
   },
   "outputs": [],
   "source": []
  },
  {
   "cell_type": "code",
   "execution_count": null,
   "metadata": {
    "collapsed": true
   },
   "outputs": [],
   "source": []
  },
  {
   "cell_type": "markdown",
   "metadata": {},
   "source": [
    "## CNN Train \n",
    "Generator"
   ]
  },
  {
   "cell_type": "code",
   "execution_count": 3,
   "metadata": {},
   "outputs": [],
   "source": [
    "gen_train = dataGenerator(500,'train',prob_peaks=0.2,prob_near_peaks=0.6,reshape=False,expand_dims=True)\n",
    "gen_test = dataGenerator(100,'test',prob_peaks=0.2,prob_near_peaks=0.6,reshape=False,expand_dims=True)"
   ]
  },
  {
   "cell_type": "code",
   "execution_count": 4,
   "metadata": {},
   "outputs": [],
   "source": [
    "model = Sequential()\n",
    "model.add(Conv2D(32, kernel_size=(5, 5), strides=(1, 1),\n",
    "                 activation='relu',\n",
    "                 input_shape=(patche_size,patche_size,1)))\n",
    "model.add(MaxPooling2D(pool_size=(2, 2), strides=(2, 2)))\n",
    "model.add(Conv2D(64, (5, 5), activation='relu'))\n",
    "model.add(MaxPooling2D(pool_size=(2, 2)))\n",
    "model.add(Flatten())\n",
    "model.add(Dense(1000, activation='sigmoid'))\n",
    "model.add(Dense(num_classes, activation='softmax'))"
   ]
  },
  {
   "cell_type": "code",
   "execution_count": 5,
   "metadata": {},
   "outputs": [],
   "source": [
    "model.compile(loss='binary_crossentropy',\n",
    "              optimizer='Adamax',#keras.optimizers.SGD(lr=0.01),\n",
    "              metrics=['accuracy'])"
   ]
  },
  {
   "cell_type": "code",
   "execution_count": 6,
   "metadata": {
    "scrolled": false
   },
   "outputs": [
    {
     "name": "stderr",
     "output_type": "stream",
     "text": [
      "/home/cordeiro/env/py3im/lib/python3.6/site-packages/ipykernel_launcher.py:1: UserWarning: The semantics of the Keras 2 argument `steps_per_epoch` is not the same as the Keras 1 argument `samples_per_epoch`. `steps_per_epoch` is the number of batches to draw from the generator at each epoch. Basically steps_per_epoch = samples_per_epoch/batch_size. Similarly `nb_val_samples`->`validation_steps` and `val_samples`->`steps` arguments have changed. Update your method calls accordingly.\n",
      "  \"\"\"Entry point for launching an IPython kernel.\n",
      "/home/cordeiro/env/py3im/lib/python3.6/site-packages/ipykernel_launcher.py:1: UserWarning: Update your `fit_generator` call to the Keras 2 API: `fit_generator(<generator..., steps_per_epoch=1024, epochs=10)`\n",
      "  \"\"\"Entry point for launching an IPython kernel.\n"
     ]
    },
    {
     "name": "stdout",
     "output_type": "stream",
     "text": [
      "Epoch 1/10\n",
      "1024/1024 [==============================] - 492s 480ms/step - loss: 0.1950 - acc: 0.9102\n",
      "Epoch 2/10\n",
      "1024/1024 [==============================] - 394s 385ms/step - loss: 0.1337 - acc: 0.9465\n",
      "Epoch 3/10\n",
      "1024/1024 [==============================] - 544s 531ms/step - loss: 0.1148 - acc: 0.9570\n",
      "Epoch 4/10\n",
      "1024/1024 [==============================] - 382s 374ms/step - loss: 0.1043 - acc: 0.9612\n",
      "Epoch 5/10\n",
      "1024/1024 [==============================] - 375s 366ms/step - loss: 0.0920 - acc: 0.9664\n",
      "Epoch 6/10\n",
      "1024/1024 [==============================] - 367s 358ms/step - loss: 0.0894 - acc: 0.9674\n",
      "Epoch 7/10\n",
      "1024/1024 [==============================] - 384s 375ms/step - loss: 0.0866 - acc: 0.9682\n",
      "Epoch 8/10\n",
      "1024/1024 [==============================] - 381s 372ms/step - loss: 0.0819 - acc: 0.9704\n",
      "Epoch 9/10\n",
      "1024/1024 [==============================] - 379s 370ms/step - loss: 0.0803 - acc: 0.9714\n",
      "Epoch 10/10\n",
      "1024/1024 [==============================] - 374s 365ms/step - loss: 0.0806 - acc: 0.9713\n"
     ]
    },
    {
     "data": {
      "text/plain": [
       "<keras.callbacks.History at 0x7ff465e4deb8>"
      ]
     },
     "execution_count": 6,
     "metadata": {},
     "output_type": "execute_result"
    }
   ],
   "source": [
    "model.fit_generator(gen_train, samples_per_epoch=1024, nb_epoch=10)"
   ]
  },
  {
   "cell_type": "code",
   "execution_count": 7,
   "metadata": {},
   "outputs": [
    {
     "data": {
      "text/plain": [
       "[0.06989601265249235, 0.9742431640625]"
      ]
     },
     "execution_count": 7,
     "metadata": {},
     "output_type": "execute_result"
    }
   ],
   "source": [
    "score = model.evaluate_generator(gen_test,steps=1024)\n",
    "score"
   ]
  },
  {
   "cell_type": "code",
   "execution_count": 8,
   "metadata": {},
   "outputs": [],
   "source": [
    "model.save('models/model6.h5')"
   ]
  },
  {
   "cell_type": "code",
   "execution_count": null,
   "metadata": {
    "collapsed": true
   },
   "outputs": [],
   "source": []
  },
  {
   "cell_type": "code",
   "execution_count": null,
   "metadata": {
    "collapsed": true
   },
   "outputs": [],
   "source": []
  },
  {
   "cell_type": "code",
   "execution_count": null,
   "metadata": {},
   "outputs": [],
   "source": []
  },
  {
   "cell_type": "code",
   "execution_count": null,
   "metadata": {},
   "outputs": [],
   "source": []
  },
  {
   "cell_type": "code",
   "execution_count": null,
   "metadata": {},
   "outputs": [],
   "source": []
  }
 ],
 "metadata": {
  "kernelspec": {
   "display_name": "py3im",
   "language": "python",
   "name": "py3im"
  },
  "language_info": {
   "codemirror_mode": {
    "name": "ipython",
    "version": 3
   },
   "file_extension": ".py",
   "mimetype": "text/x-python",
   "name": "python",
   "nbconvert_exporter": "python",
   "pygments_lexer": "ipython3",
   "version": "3.6.3"
  }
 },
 "nbformat": 4,
 "nbformat_minor": 2
}

{
 "cells": [
  {
   "cell_type": "code",
   "execution_count": 1,
   "metadata": {},
   "outputs": [
    {
     "name": "stderr",
     "output_type": "stream",
     "text": [
      "Using TensorFlow backend.\n"
     ]
    }
   ],
   "source": [
    "from lines_generator import dataGenerator\n",
    "import numpy as np\n",
    "import keras\n",
    "from keras import Sequential\n",
    "from keras.layers import Dense,Conv2D, MaxPooling2D, Flatten"
   ]
  },
  {
   "cell_type": "code",
   "execution_count": 2,
   "metadata": {},
   "outputs": [],
   "source": [
    "patche_size = 17\n",
    "input_dim = patche_size**2\n",
    "num_classes = 2"
   ]
  },
  {
   "cell_type": "markdown",
   "metadata": {
    "collapsed": true
   },
   "source": [
    "## ANN Train\n",
    "Generator"
   ]
  },
  {
   "cell_type": "code",
   "execution_count": 3,
   "metadata": {},
   "outputs": [],
   "source": [
    "gen_train = dataGenerator(100,'train',prob_peaks=0.2,prob_near_peaks=0.8)\n",
    "gen_test = dataGenerator(20,'test',prob_peaks=0.2,prob_near_peaks=0.8)"
   ]
  },
  {
   "cell_type": "code",
   "execution_count": 10,
   "metadata": {},
   "outputs": [
    {
     "data": {
      "text/plain": [
       "(2087, 3017)"
      ]
     },
     "execution_count": 10,
     "metadata": {},
     "output_type": "execute_result"
    }
   ],
   "source": [
    "np.load(\"data/train/im_22.npy\").shape"
   ]
  },
  {
   "cell_type": "markdown",
   "metadata": {},
   "source": [
    "__activations:__ = relu - softmax - sigmoid"
   ]
  },
  {
   "cell_type": "code",
   "execution_count": 14,
   "metadata": {},
   "outputs": [],
   "source": [
    "# create model\n",
    "model = Sequential()\n",
    "model.add(Dense(350, input_dim=input_dim, activation='sigmoid'))\n",
    "model.add(Dense(250, input_dim=input_dim, activation='sigmoid'))\n",
    "model.add(Dense(2, activation='softmax'))"
   ]
  },
  {
   "cell_type": "markdown",
   "metadata": {},
   "source": [
    "https://keras.io/models/model/ $\\ \\ \\ $ https://keras.io/optimizers/ $\\ \\ \\ $ https://keras.io/losses/  <br>\n",
    "__optimizer:__ SGD - RMSprop - Adagrad - Adadelta - Adam - Adamax - Nadam - TFOptimizer. <br>\n",
    "__loss:__ mean_squared_error - mean_absolute_error - mean_absolute_percentage_error - mean_squared_logarithmic_error - squared_hinge - hinge - categorical_hinge - logcosh - categorical_crossentropy - sparse_categorical_crossentropy - binary_crossentropy - kullback_leibler_divergence - poisson - cosine_proximity."
   ]
  },
  {
   "cell_type": "code",
   "execution_count": 15,
   "metadata": {},
   "outputs": [],
   "source": [
    "model.compile(optimizer='Adamax',\n",
    "              loss='binary_crossentropy',\n",
    "              metrics=['accuracy'])"
   ]
  },
  {
   "cell_type": "code",
   "execution_count": 16,
   "metadata": {},
   "outputs": [
    {
     "name": "stderr",
     "output_type": "stream",
     "text": [
      "/home/cordeiro/env/py3im/lib/python3.6/site-packages/ipykernel_launcher.py:1: UserWarning: The semantics of the Keras 2 argument `steps_per_epoch` is not the same as the Keras 1 argument `samples_per_epoch`. `steps_per_epoch` is the number of batches to draw from the generator at each epoch. Basically steps_per_epoch = samples_per_epoch/batch_size. Similarly `nb_val_samples`->`validation_steps` and `val_samples`->`steps` arguments have changed. Update your method calls accordingly.\n",
      "  \"\"\"Entry point for launching an IPython kernel.\n",
      "/home/cordeiro/env/py3im/lib/python3.6/site-packages/ipykernel_launcher.py:1: UserWarning: Update your `fit_generator` call to the Keras 2 API: `fit_generator(<generator..., steps_per_epoch=1024, epochs=50)`\n",
      "  \"\"\"Entry point for launching an IPython kernel.\n"
     ]
    },
    {
     "name": "stdout",
     "output_type": "stream",
     "text": [
      "Epoch 1/50\n",
      "1024/1024 [==============================] - 41s 40ms/step - loss: 0.2167 - acc: 0.8982\n",
      "Epoch 2/50\n",
      "1024/1024 [==============================] - 5s 5ms/step - loss: 0.1681 - acc: 0.9282\n",
      "Epoch 3/50\n",
      "1024/1024 [==============================] - 5s 5ms/step - loss: 0.1536 - acc: 0.9349\n",
      "Epoch 4/50\n",
      "1024/1024 [==============================] - 5s 5ms/step - loss: 0.1573 - acc: 0.9334\n",
      "Epoch 5/50\n",
      "1024/1024 [==============================] - 5s 5ms/step - loss: 0.1563 - acc: 0.9334\n",
      "Epoch 6/50\n",
      "1024/1024 [==============================] - 5s 5ms/step - loss: 0.1538 - acc: 0.9334\n",
      "Epoch 7/50\n",
      "1024/1024 [==============================] - 5s 5ms/step - loss: 0.1598 - acc: 0.9295\n",
      "Epoch 8/50\n",
      "1024/1024 [==============================] - 5s 5ms/step - loss: 0.1501 - acc: 0.9357\n",
      "Epoch 9/50\n",
      "1024/1024 [==============================] - 5s 5ms/step - loss: 0.1519 - acc: 0.9345\n",
      "Epoch 10/50\n",
      "1024/1024 [==============================] - 5s 5ms/step - loss: 0.1545 - acc: 0.9338\n",
      "Epoch 11/50\n",
      "1024/1024 [==============================] - 5s 5ms/step - loss: 0.1502 - acc: 0.9354\n",
      "Epoch 12/50\n",
      "1024/1024 [==============================] - 6s 6ms/step - loss: 0.1500 - acc: 0.9354\n",
      "Epoch 13/50\n",
      "1024/1024 [==============================] - 5s 5ms/step - loss: 0.1427 - acc: 0.9382\n",
      "Epoch 14/50\n",
      "1024/1024 [==============================] - 5s 5ms/step - loss: 0.1417 - acc: 0.9404\n",
      "Epoch 15/50\n",
      "1024/1024 [==============================] - 5s 5ms/step - loss: 0.1397 - acc: 0.9431\n",
      "Epoch 16/50\n",
      "1024/1024 [==============================] - 5s 5ms/step - loss: 0.1561 - acc: 0.9329\n",
      "Epoch 17/50\n",
      "1024/1024 [==============================] - 5s 5ms/step - loss: 0.1453 - acc: 0.9362\n",
      "Epoch 18/50\n",
      "1024/1024 [==============================] - 6s 5ms/step - loss: 0.1413 - acc: 0.9416\n",
      "Epoch 19/50\n",
      "1024/1024 [==============================] - 6s 6ms/step - loss: 0.1431 - acc: 0.9385\n",
      "Epoch 20/50\n",
      "1024/1024 [==============================] - 6s 6ms/step - loss: 0.1412 - acc: 0.9392\n",
      "Epoch 21/50\n",
      "1024/1024 [==============================] - 5s 5ms/step - loss: 0.1376 - acc: 0.9417\n",
      "Epoch 22/50\n",
      "1024/1024 [==============================] - 5s 5ms/step - loss: 0.1406 - acc: 0.9423\n",
      "Epoch 23/50\n",
      "1024/1024 [==============================] - 6s 5ms/step - loss: 0.1487 - acc: 0.9368\n",
      "Epoch 24/50\n",
      "1024/1024 [==============================] - 5s 5ms/step - loss: 0.1430 - acc: 0.9393\n",
      "Epoch 25/50\n",
      "1024/1024 [==============================] - 6s 6ms/step - loss: 0.1437 - acc: 0.9397\n",
      "Epoch 26/50\n",
      "1024/1024 [==============================] - 5s 5ms/step - loss: 0.1430 - acc: 0.9385\n",
      "Epoch 27/50\n",
      "1024/1024 [==============================] - 5s 4ms/step - loss: 0.1384 - acc: 0.9440\n",
      "Epoch 28/50\n",
      "1024/1024 [==============================] - 6s 6ms/step - loss: 0.1408 - acc: 0.9403\n",
      "Epoch 29/50\n",
      "1024/1024 [==============================] - 6s 6ms/step - loss: 0.1471 - acc: 0.9389\n",
      "Epoch 30/50\n",
      "1024/1024 [==============================] - 5s 5ms/step - loss: 0.1416 - acc: 0.9416\n",
      "Epoch 31/50\n",
      "1024/1024 [==============================] - 4s 4ms/step - loss: 0.1466 - acc: 0.9379\n",
      "Epoch 32/50\n",
      "1024/1024 [==============================] - 5s 5ms/step - loss: 0.1420 - acc: 0.9399\n",
      "Epoch 33/50\n",
      "1024/1024 [==============================] - 5s 5ms/step - loss: 0.1416 - acc: 0.9409\n",
      "Epoch 34/50\n",
      "1024/1024 [==============================] - 5s 5ms/step - loss: 0.1396 - acc: 0.9422\n",
      "Epoch 35/50\n",
      "1024/1024 [==============================] - 4s 4ms/step - loss: 0.1410 - acc: 0.9410\n",
      "Epoch 36/50\n",
      "1024/1024 [==============================] - 4s 4ms/step - loss: 0.1320 - acc: 0.9456\n",
      "Epoch 37/50\n",
      "1024/1024 [==============================] - 4s 4ms/step - loss: 0.1392 - acc: 0.9423\n",
      "Epoch 38/50\n",
      "1024/1024 [==============================] - 4s 4ms/step - loss: 0.1361 - acc: 0.9448\n",
      "Epoch 39/50\n",
      "1024/1024 [==============================] - 4s 4ms/step - loss: 0.1414 - acc: 0.9426\n",
      "Epoch 40/50\n",
      "1024/1024 [==============================] - 4s 4ms/step - loss: 0.1359 - acc: 0.9446\n",
      "Epoch 41/50\n",
      "1024/1024 [==============================] - 4s 4ms/step - loss: 0.1330 - acc: 0.9435\n",
      "Epoch 42/50\n",
      "1024/1024 [==============================] - 4s 4ms/step - loss: 0.1391 - acc: 0.9410\n",
      "Epoch 43/50\n",
      "1024/1024 [==============================] - 5s 4ms/step - loss: 0.1405 - acc: 0.9443\n",
      "Epoch 44/50\n",
      "1024/1024 [==============================] - 4s 4ms/step - loss: 0.1409 - acc: 0.9417\n",
      "Epoch 45/50\n",
      "1024/1024 [==============================] - 4s 4ms/step - loss: 0.1305 - acc: 0.9454\n",
      "Epoch 46/50\n",
      "1024/1024 [==============================] - 4s 4ms/step - loss: 0.1348 - acc: 0.9449\n",
      "Epoch 47/50\n",
      "1024/1024 [==============================] - 5s 5ms/step - loss: 0.1328 - acc: 0.9457\n",
      "Epoch 48/50\n",
      "1024/1024 [==============================] - 6s 6ms/step - loss: 0.1332 - acc: 0.9451\n",
      "Epoch 49/50\n",
      "1024/1024 [==============================] - 6s 6ms/step - loss: 0.1344 - acc: 0.9434\n",
      "Epoch 50/50\n",
      "1024/1024 [==============================] - 5s 5ms/step - loss: 0.1343 - acc: 0.9452\n"
     ]
    },
    {
     "data": {
      "text/plain": [
       "<keras.callbacks.History at 0x7fb1b8158860>"
      ]
     },
     "execution_count": 16,
     "metadata": {},
     "output_type": "execute_result"
    }
   ],
   "source": [
    "model.fit_generator(gen_train, samples_per_epoch=1024, nb_epoch=50)"
   ]
  },
  {
   "cell_type": "code",
   "execution_count": 17,
   "metadata": {},
   "outputs": [
    {
     "data": {
      "text/plain": [
       "[0.14428064215161385, 0.9423828125]"
      ]
     },
     "execution_count": 17,
     "metadata": {},
     "output_type": "execute_result"
    }
   ],
   "source": [
    "score = model.evaluate_generator(gen_test,steps=1024)\n",
    "score"
   ]
  },
  {
   "cell_type": "code",
   "execution_count": 18,
   "metadata": {},
   "outputs": [
    {
     "name": "stdout",
     "output_type": "stream",
     "text": [
      "128/128 [==============================] - 0s 2ms/step\n"
     ]
    }
   ],
   "source": [
    "pred_test = model.predict_generator(gen_test,steps=128,verbose=1)"
   ]
  },
  {
   "cell_type": "code",
   "execution_count": 19,
   "metadata": {},
   "outputs": [
    {
     "data": {
      "text/plain": [
       "array([[1.3562868e-03, 9.9864370e-01],\n",
       "       [6.4597488e-04, 9.9935406e-01],\n",
       "       [1.8472691e-06, 9.9999821e-01],\n",
       "       ...,\n",
       "       [9.0339354e-06, 9.9999094e-01],\n",
       "       [4.3996611e-06, 9.9999559e-01],\n",
       "       [4.7003723e-06, 9.9999535e-01]], dtype=float32)"
      ]
     },
     "execution_count": 19,
     "metadata": {},
     "output_type": "execute_result"
    }
   ],
   "source": [
    "pred_test"
   ]
  },
  {
   "cell_type": "markdown",
   "metadata": {
    "collapsed": true
   },
   "source": [
    "## Save"
   ]
  },
  {
   "cell_type": "code",
   "execution_count": 20,
   "metadata": {},
   "outputs": [],
   "source": [
    "model.save('models/model4.h5')"
   ]
  },
  {
   "cell_type": "code",
   "execution_count": null,
   "metadata": {
    "collapsed": true
   },
   "outputs": [],
   "source": []
  },
  {
   "cell_type": "code",
   "execution_count": null,
   "metadata": {
    "collapsed": true
   },
   "outputs": [],
   "source": []
  },
  {
   "cell_type": "markdown",
   "metadata": {},
   "source": [
    "## CNN Train \n",
    "Generator"
   ]
  },
  {
   "cell_type": "code",
   "execution_count": 6,
   "metadata": {},
   "outputs": [],
   "source": [
    "gen_train = dataGenerator(100,'train',prob_peaks=0.2,prob_near_peaks=0.8,reshape=False,expand_dims=True)\n",
    "gen_test = dataGenerator(20,'test',prob_peaks=0.2,prob_near_peaks=0.8,reshape=False,expand_dims=True)"
   ]
  },
  {
   "cell_type": "code",
   "execution_count": 5,
   "metadata": {},
   "outputs": [],
   "source": [
    "model = Sequential()\n",
    "model.add(Conv2D(32, kernel_size=(5, 5), strides=(1, 1),\n",
    "                 activation='relu',\n",
    "                 input_shape=(patche_size,patche_size,1)))\n",
    "model.add(MaxPooling2D(pool_size=(2, 2), strides=(2, 2)))\n",
    "model.add(Conv2D(64, (5, 5), activation='relu'))\n",
    "model.add(MaxPooling2D(pool_size=(2, 2)))\n",
    "model.add(Flatten())\n",
    "model.add(Dense(1000, activation='sigmoid'))\n",
    "model.add(Dense(num_classes, activation='softmax'))"
   ]
  },
  {
   "cell_type": "code",
   "execution_count": 6,
   "metadata": {},
   "outputs": [],
   "source": [
    "model.compile(loss='binary_crossentropy',\n",
    "              optimizer='Adamax',#keras.optimizers.SGD(lr=0.01),\n",
    "              metrics=['accuracy'])"
   ]
  },
  {
   "cell_type": "code",
   "execution_count": 7,
   "metadata": {},
   "outputs": [
    {
     "name": "stderr",
     "output_type": "stream",
     "text": [
      "/home/cordeiro/env/py3im/lib/python3.6/site-packages/ipykernel_launcher.py:1: UserWarning: The semantics of the Keras 2 argument `steps_per_epoch` is not the same as the Keras 1 argument `samples_per_epoch`. `steps_per_epoch` is the number of batches to draw from the generator at each epoch. Basically steps_per_epoch = samples_per_epoch/batch_size. Similarly `nb_val_samples`->`validation_steps` and `val_samples`->`steps` arguments have changed. Update your method calls accordingly.\n",
      "  \"\"\"Entry point for launching an IPython kernel.\n",
      "/home/cordeiro/env/py3im/lib/python3.6/site-packages/ipykernel_launcher.py:1: UserWarning: Update your `fit_generator` call to the Keras 2 API: `fit_generator(<generator..., steps_per_epoch=1024, epochs=10)`\n",
      "  \"\"\"Entry point for launching an IPython kernel.\n"
     ]
    },
    {
     "name": "stdout",
     "output_type": "stream",
     "text": [
      "Epoch 1/10\n",
      "1024/1024 [==============================] - 31s 30ms/step - loss: 0.1765 - acc: 0.9223\n",
      "Epoch 2/10\n",
      "1024/1024 [==============================] - 7s 7ms/step - loss: 0.1128 - acc: 0.9545\n",
      "Epoch 3/10\n",
      "1024/1024 [==============================] - 7s 7ms/step - loss: 0.0851 - acc: 0.9693\n",
      "Epoch 4/10\n",
      "1024/1024 [==============================] - 7s 7ms/step - loss: 0.0813 - acc: 0.9714\n",
      "Epoch 5/10\n",
      "1024/1024 [==============================] - 8s 7ms/step - loss: 0.0701 - acc: 0.9752\n",
      "Epoch 6/10\n",
      "1024/1024 [==============================] - 8s 7ms/step - loss: 0.0667 - acc: 0.9763\n",
      "Epoch 7/10\n",
      "1024/1024 [==============================] - 8s 8ms/step - loss: 0.0549 - acc: 0.9821\n",
      "Epoch 8/10\n",
      "1024/1024 [==============================] - 9s 9ms/step - loss: 0.0538 - acc: 0.9813\n",
      "Epoch 9/10\n",
      "1024/1024 [==============================] - 8s 8ms/step - loss: 0.0536 - acc: 0.9823\n",
      "Epoch 10/10\n",
      "1024/1024 [==============================] - 8s 8ms/step - loss: 0.0473 - acc: 0.9847\n"
     ]
    },
    {
     "data": {
      "text/plain": [
       "<keras.callbacks.History at 0x7f0da6e844e0>"
      ]
     },
     "execution_count": 7,
     "metadata": {},
     "output_type": "execute_result"
    }
   ],
   "source": [
    "model.fit_generator(gen_train, samples_per_epoch=1024, nb_epoch=10)"
   ]
  },
  {
   "cell_type": "code",
   "execution_count": 9,
   "metadata": {},
   "outputs": [
    {
     "data": {
      "text/plain": [
       "[0.0818509245857797, 0.973388671875]"
      ]
     },
     "execution_count": 9,
     "metadata": {},
     "output_type": "execute_result"
    }
   ],
   "source": [
    "score = model.evaluate_generator(gen_test,steps=1024)\n",
    "score"
   ]
  },
  {
   "cell_type": "code",
   "execution_count": 10,
   "metadata": {},
   "outputs": [],
   "source": [
    "model.save('models/model5.h5')"
   ]
  },
  {
   "cell_type": "code",
   "execution_count": null,
   "metadata": {
    "collapsed": true
   },
   "outputs": [],
   "source": []
  },
  {
   "cell_type": "code",
   "execution_count": null,
   "metadata": {
    "collapsed": true
   },
   "outputs": [],
   "source": []
  }
 ],
 "metadata": {
  "kernelspec": {
   "display_name": "py3im",
   "language": "python",
   "name": "py3im"
  },
  "language_info": {
   "codemirror_mode": {
    "name": "ipython",
    "version": 3
   },
   "file_extension": ".py",
   "mimetype": "text/x-python",
   "name": "python",
   "nbconvert_exporter": "python",
   "pygments_lexer": "ipython3",
   "version": "3.6.3"
  }
 },
 "nbformat": 4,
 "nbformat_minor": 2
}

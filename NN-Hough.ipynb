{
 "cells": [
  {
   "cell_type": "code",
   "execution_count": 1,
   "metadata": {
    "collapsed": false
   },
   "outputs": [
    {
     "name": "stderr",
     "output_type": "stream",
     "text": [
      "Using TensorFlow backend.\n"
     ]
    }
   ],
   "source": [
    "from lines_generator import dataGenerator\n",
    "import numpy as np\n",
    "import keras\n",
    "from keras import Sequential\n",
    "from keras.layers import Dense,Conv2D, MaxPooling2D, Flatten"
   ]
  },
  {
   "cell_type": "code",
   "execution_count": 2,
   "metadata": {
    "collapsed": true
   },
   "outputs": [],
   "source": [
    "patche_size = 17\n",
    "input_dim = patche_size**2"
   ]
  },
  {
   "cell_type": "markdown",
   "metadata": {
    "collapsed": true
   },
   "source": [
    "## ANN Generator"
   ]
  },
  {
   "cell_type": "code",
   "execution_count": 3,
   "metadata": {
    "collapsed": false
   },
   "outputs": [],
   "source": [
    "gen_train = dataGenerator(50,'train',prob_peaks=0.2,prob_near_peaks=0.8)\n",
    "gen_test = dataGenerator(10,'test',prob_peaks=0.2,prob_near_peaks=0.8)"
   ]
  },
  {
   "cell_type": "code",
   "execution_count": 4,
   "metadata": {
    "collapsed": false
   },
   "outputs": [],
   "source": [
    "# create model\n",
    "# activations = ['relu','softmax','sigmoid']\n",
    "model = Sequential()\n",
    "model.add(Dense(200, input_dim=input_dim, activation='sigmoid'))\n",
    "model.add(Dense(200, activation='sigmoid'))\n",
    "model.add(Dense(2, activation='softmax'))"
   ]
  },
  {
   "cell_type": "code",
   "execution_count": 5,
   "metadata": {
    "collapsed": true
   },
   "outputs": [],
   "source": [
    "model.compile(optimizer='rmsprop',\n",
    "              loss='categorical_crossentropy',\n",
    "              metrics=['accuracy'])"
   ]
  },
  {
   "cell_type": "code",
   "execution_count": 6,
   "metadata": {
    "collapsed": false
   },
   "outputs": [
    {
     "name": "stderr",
     "output_type": "stream",
     "text": [
      "/home/cordeiro/env/py3im/lib/python3.6/site-packages/ipykernel_launcher.py:1: UserWarning: The semantics of the Keras 2 argument `steps_per_epoch` is not the same as the Keras 1 argument `samples_per_epoch`. `steps_per_epoch` is the number of batches to draw from the generator at each epoch. Basically steps_per_epoch = samples_per_epoch/batch_size. Similarly `nb_val_samples`->`validation_steps` and `val_samples`->`steps` arguments have changed. Update your method calls accordingly.\n",
      "  \"\"\"Entry point for launching an IPython kernel.\n",
      "/home/cordeiro/env/py3im/lib/python3.6/site-packages/ipykernel_launcher.py:1: UserWarning: Update your `fit_generator` call to the Keras 2 API: `fit_generator(<generator..., steps_per_epoch=64, epochs=50)`\n",
      "  \"\"\"Entry point for launching an IPython kernel.\n"
     ]
    },
    {
     "name": "stdout",
     "output_type": "stream",
     "text": [
      "Epoch 1/50\n",
      "64/64 [==============================] - 11s 174ms/step - loss: 0.4067 - acc: 0.8027\n",
      "Epoch 2/50\n",
      "64/64 [==============================] - 0s 3ms/step - loss: 0.2906 - acc: 0.8613\n",
      "Epoch 3/50\n",
      "64/64 [==============================] - 0s 3ms/step - loss: 0.2858 - acc: 0.8408\n",
      "Epoch 4/50\n",
      "64/64 [==============================] - 0s 3ms/step - loss: 0.2779 - acc: 0.8506\n",
      "Epoch 5/50\n",
      "64/64 [==============================] - 0s 3ms/step - loss: 0.2938 - acc: 0.8516\n",
      "Epoch 6/50\n",
      "64/64 [==============================] - 0s 3ms/step - loss: 0.2514 - acc: 0.8789\n",
      "Epoch 7/50\n",
      "64/64 [==============================] - 0s 3ms/step - loss: 0.2470 - acc: 0.8770\n",
      "Epoch 8/50\n",
      "64/64 [==============================] - 0s 3ms/step - loss: 0.2548 - acc: 0.8779\n",
      "Epoch 9/50\n",
      "64/64 [==============================] - 0s 3ms/step - loss: 0.2594 - acc: 0.8760\n",
      "Epoch 10/50\n",
      "64/64 [==============================] - 0s 3ms/step - loss: 0.2545 - acc: 0.8623\n",
      "Epoch 11/50\n",
      "64/64 [==============================] - 0s 3ms/step - loss: 0.2637 - acc: 0.8789\n",
      "Epoch 12/50\n",
      "64/64 [==============================] - 0s 3ms/step - loss: 0.2377 - acc: 0.8896\n",
      "Epoch 13/50\n",
      "64/64 [==============================] - 0s 3ms/step - loss: 0.2207 - acc: 0.8994\n",
      "Epoch 14/50\n",
      "64/64 [==============================] - 0s 3ms/step - loss: 0.2510 - acc: 0.8857\n",
      "Epoch 15/50\n",
      "64/64 [==============================] - 0s 4ms/step - loss: 0.2437 - acc: 0.8799\n",
      "Epoch 16/50\n",
      "64/64 [==============================] - 0s 3ms/step - loss: 0.2569 - acc: 0.8779\n",
      "Epoch 17/50\n",
      "64/64 [==============================] - 0s 3ms/step - loss: 0.2429 - acc: 0.8838\n",
      "Epoch 18/50\n",
      "64/64 [==============================] - 0s 3ms/step - loss: 0.2358 - acc: 0.8760\n",
      "Epoch 19/50\n",
      "64/64 [==============================] - 0s 3ms/step - loss: 0.2362 - acc: 0.8945\n",
      "Epoch 20/50\n",
      "64/64 [==============================] - 0s 3ms/step - loss: 0.2419 - acc: 0.8867\n",
      "Epoch 21/50\n",
      "64/64 [==============================] - 0s 3ms/step - loss: 0.2269 - acc: 0.8877\n",
      "Epoch 22/50\n",
      "64/64 [==============================] - 0s 3ms/step - loss: 0.2460 - acc: 0.8750\n",
      "Epoch 23/50\n",
      "64/64 [==============================] - 0s 3ms/step - loss: 0.2383 - acc: 0.8809\n",
      "Epoch 24/50\n",
      "64/64 [==============================] - 0s 3ms/step - loss: 0.2089 - acc: 0.9062\n",
      "Epoch 25/50\n",
      "64/64 [==============================] - 0s 3ms/step - loss: 0.2282 - acc: 0.9004\n",
      "Epoch 26/50\n",
      "64/64 [==============================] - 0s 5ms/step - loss: 0.2378 - acc: 0.8936\n",
      "Epoch 27/50\n",
      "64/64 [==============================] - 0s 3ms/step - loss: 0.2201 - acc: 0.8936\n",
      "Epoch 28/50\n",
      "64/64 [==============================] - 0s 3ms/step - loss: 0.2383 - acc: 0.8828\n",
      "Epoch 29/50\n",
      "64/64 [==============================] - 0s 4ms/step - loss: 0.2271 - acc: 0.8916\n",
      "Epoch 30/50\n",
      "64/64 [==============================] - 0s 3ms/step - loss: 0.2030 - acc: 0.9092\n",
      "Epoch 31/50\n",
      "64/64 [==============================] - 0s 3ms/step - loss: 0.2613 - acc: 0.8857\n",
      "Epoch 32/50\n",
      "64/64 [==============================] - 0s 4ms/step - loss: 0.2165 - acc: 0.8955\n",
      "Epoch 33/50\n",
      "64/64 [==============================] - 0s 3ms/step - loss: 0.2114 - acc: 0.8975\n",
      "Epoch 34/50\n",
      "64/64 [==============================] - 0s 3ms/step - loss: 0.1783 - acc: 0.9219\n",
      "Epoch 35/50\n",
      "64/64 [==============================] - 0s 4ms/step - loss: 0.2333 - acc: 0.9004\n",
      "Epoch 36/50\n",
      "64/64 [==============================] - 0s 3ms/step - loss: 0.1882 - acc: 0.9121\n",
      "Epoch 37/50\n",
      "64/64 [==============================] - 0s 3ms/step - loss: 0.2165 - acc: 0.9033\n",
      "Epoch 38/50\n",
      "64/64 [==============================] - 0s 3ms/step - loss: 0.2043 - acc: 0.9053\n",
      "Epoch 39/50\n",
      "64/64 [==============================] - 0s 3ms/step - loss: 0.1710 - acc: 0.9229\n",
      "Epoch 40/50\n",
      "64/64 [==============================] - 0s 3ms/step - loss: 0.1964 - acc: 0.9111\n",
      "Epoch 41/50\n",
      "64/64 [==============================] - 0s 4ms/step - loss: 0.1930 - acc: 0.9150\n",
      "Epoch 42/50\n",
      "64/64 [==============================] - 0s 4ms/step - loss: 0.2116 - acc: 0.9033\n",
      "Epoch 43/50\n",
      "64/64 [==============================] - 0s 4ms/step - loss: 0.1920 - acc: 0.9209\n",
      "Epoch 44/50\n",
      "64/64 [==============================] - 0s 3ms/step - loss: 0.2211 - acc: 0.8896\n",
      "Epoch 45/50\n",
      "64/64 [==============================] - 0s 3ms/step - loss: 0.1943 - acc: 0.9102\n",
      "Epoch 46/50\n",
      "64/64 [==============================] - 0s 3ms/step - loss: 0.2073 - acc: 0.9082\n",
      "Epoch 47/50\n",
      "64/64 [==============================] - 0s 3ms/step - loss: 0.2290 - acc: 0.8975\n",
      "Epoch 48/50\n",
      "64/64 [==============================] - 0s 4ms/step - loss: 0.2154 - acc: 0.9014\n",
      "Epoch 49/50\n",
      "64/64 [==============================] - 0s 3ms/step - loss: 0.2161 - acc: 0.8955\n",
      "Epoch 50/50\n",
      "64/64 [==============================] - 0s 3ms/step - loss: 0.1955 - acc: 0.9053\n"
     ]
    },
    {
     "data": {
      "text/plain": [
       "<keras.callbacks.History at 0x7f6926e8f940>"
      ]
     },
     "execution_count": 6,
     "metadata": {},
     "output_type": "execute_result"
    }
   ],
   "source": [
    "model.fit_generator(gen_train, samples_per_epoch=64, nb_epoch=50)"
   ]
  },
  {
   "cell_type": "code",
   "execution_count": 7,
   "metadata": {
    "collapsed": false
   },
   "outputs": [
    {
     "data": {
      "text/plain": [
       "[0.19393028672493529, 0.90966796875]"
      ]
     },
     "execution_count": 7,
     "metadata": {},
     "output_type": "execute_result"
    }
   ],
   "source": [
    "score = model.evaluate_generator(gen_test,steps=128)\n",
    "score"
   ]
  },
  {
   "cell_type": "code",
   "execution_count": 8,
   "metadata": {
    "collapsed": false
   },
   "outputs": [
    {
     "name": "stdout",
     "output_type": "stream",
     "text": [
      "128/128 [==============================] - 0s 2ms/step\n"
     ]
    }
   ],
   "source": [
    "pred_test = model.predict_generator(gen_test,steps=128,verbose=1)"
   ]
  },
  {
   "cell_type": "code",
   "execution_count": 9,
   "metadata": {
    "collapsed": false
   },
   "outputs": [
    {
     "data": {
      "text/plain": [
       "array([[0.00312695, 0.9968731 ],\n",
       "       [0.90895385, 0.09104614],\n",
       "       [0.00515875, 0.9948413 ],\n",
       "       ...,\n",
       "       [0.03850157, 0.9614984 ],\n",
       "       [0.79164743, 0.20835258],\n",
       "       [0.00457611, 0.99542385]], dtype=float32)"
      ]
     },
     "execution_count": 9,
     "metadata": {},
     "output_type": "execute_result"
    }
   ],
   "source": [
    "pred_test"
   ]
  },
  {
   "cell_type": "markdown",
   "metadata": {
    "collapsed": true
   },
   "source": [
    "## Save"
   ]
  },
  {
   "cell_type": "code",
   "execution_count": 10,
   "metadata": {
    "collapsed": true
   },
   "outputs": [],
   "source": [
    "model.save('models/model3.h5')"
   ]
  },
  {
   "cell_type": "code",
   "execution_count": null,
   "metadata": {
    "collapsed": true
   },
   "outputs": [],
   "source": []
  }
 ],
 "metadata": {
  "kernelspec": {
   "display_name": "py3im",
   "language": "python",
   "name": "py3im"
  },
  "language_info": {
   "codemirror_mode": {
    "name": "ipython",
    "version": 3
   },
   "file_extension": ".py",
   "mimetype": "text/x-python",
   "name": "python",
   "nbconvert_exporter": "python",
   "pygments_lexer": "ipython3",
   "version": "3.6.3"
  }
 },
 "nbformat": 4,
 "nbformat_minor": 2
}

{
 "cells": [
  {
   "cell_type": "code",
   "execution_count": 1,
   "metadata": {
    "collapsed": false
   },
   "outputs": [
    {
     "name": "stderr",
     "output_type": "stream",
     "text": [
      "/home/cordeiro/env/py3im/lib/python3.6/site-packages/h5py/__init__.py:36: FutureWarning: Conversion of the second argument of issubdtype from `float` to `np.floating` is deprecated. In future, it will be treated as `np.float64 == np.dtype(float).type`.\n",
      "  from ._conv import register_converters as _register_converters\n",
      "Using TensorFlow backend.\n"
     ]
    }
   ],
   "source": [
    "from matplotlib import pyplot as plt \n",
    "#from lines_generator import *\n",
    "from hough import imshow\n",
    "import numpy as np\n",
    "import cv2\n",
    "import keras\n",
    "from keras import Sequential\n",
    "from keras.layers import Dense,Conv2D, MaxPooling2D, Flatten"
   ]
  },
  {
   "cell_type": "code",
   "execution_count": 5,
   "metadata": {
    "collapsed": true
   },
   "outputs": [],
   "source": [
    "patche_size = 17\n",
    "input_dim = patche_size**2"
   ]
  },
  {
   "cell_type": "markdown",
   "metadata": {},
   "source": [
    "# Data"
   ]
  },
  {
   "cell_type": "code",
   "execution_count": 28,
   "metadata": {
    "collapsed": false
   },
   "outputs": [
    {
     "name": "stdout",
     "output_type": "stream",
     "text": [
      "(19702, 17, 17, 1) (19702, 2)\n",
      "CPU times: user 1.14 s, sys: 56.1 ms, total: 1.19 s\n",
      "Wall time: 1.8 s\n"
     ]
    }
   ],
   "source": [
    "%%time\n",
    "\n",
    "n = 50\n",
    "Y = list()\n",
    "patches = list()\n",
    "\n",
    "#load all patches\n",
    "for i in range(n):\n",
    "    Y  += np.load('data/Y'+str(i+1)+'.npy').tolist()\n",
    "    patches += np.load('data/patches'+str(i+1)+'.npy').tolist()\n",
    "\n",
    "#add inverse\n",
    "Y = [[yi,int(not yi)] for yi in Y] \n",
    "\n",
    "#to numpy\n",
    "Y = np.array(Y).astype('uint8')\n",
    "patches = np.array(patches).astype('uint16')\n",
    "\n",
    "#add color dimension\n",
    "patches = np.expand_dims(patches, axis=3)\n",
    "\n",
    "print(patches.shape, Y.shape)"
   ]
  },
  {
   "cell_type": "markdown",
   "metadata": {},
   "source": [
    "__x_train e x_test__"
   ]
  },
  {
   "cell_type": "code",
   "execution_count": 29,
   "metadata": {
    "collapsed": true
   },
   "outputs": [],
   "source": [
    "from sklearn.model_selection import train_test_split\n",
    "\n",
    "x_train, x_test, y_train, y_test = train_test_split(patches, Y, test_size=0.20, random_state=42)"
   ]
  },
  {
   "cell_type": "code",
   "execution_count": 30,
   "metadata": {
    "collapsed": true
   },
   "outputs": [],
   "source": [
    "patche_size = x_train.shape[1]"
   ]
  },
  {
   "cell_type": "markdown",
   "metadata": {},
   "source": [
    "# CNN"
   ]
  },
  {
   "cell_type": "code",
   "execution_count": 27,
   "metadata": {
    "collapsed": false
   },
   "outputs": [
    {
     "ename": "NameError",
     "evalue": "name 'patche_size' is not defined",
     "output_type": "error",
     "traceback": [
      "\u001b[0;31m---------------------------------------------------------------------------\u001b[0m",
      "\u001b[0;31mNameError\u001b[0m                                 Traceback (most recent call last)",
      "\u001b[0;32m<ipython-input-27-1637c7b83dbb>\u001b[0m in \u001b[0;36m<module>\u001b[0;34m()\u001b[0m\n\u001b[1;32m      1\u001b[0m \u001b[0;32mfrom\u001b[0m \u001b[0mkeras\u001b[0m\u001b[0;34m.\u001b[0m\u001b[0mlayers\u001b[0m \u001b[0;32mimport\u001b[0m \u001b[0mConv2D\u001b[0m\u001b[0;34m,\u001b[0m \u001b[0mMaxPooling2D\u001b[0m\u001b[0;34m,\u001b[0m \u001b[0mFlatten\u001b[0m\u001b[0;34m\u001b[0m\u001b[0m\n\u001b[1;32m      2\u001b[0m \u001b[0;34m\u001b[0m\u001b[0m\n\u001b[0;32m----> 3\u001b[0;31m \u001b[0minput_shape\u001b[0m \u001b[0;34m=\u001b[0m \u001b[0;34m(\u001b[0m\u001b[0mpatche_size\u001b[0m\u001b[0;34m,\u001b[0m\u001b[0mpatche_size\u001b[0m\u001b[0;34m,\u001b[0m\u001b[0;36m1\u001b[0m\u001b[0;34m)\u001b[0m\u001b[0;34m\u001b[0m\u001b[0m\n\u001b[0m",
      "\u001b[0;31mNameError\u001b[0m: name 'patche_size' is not defined"
     ]
    }
   ],
   "source": [
    "input_shape = (patche_size,patche_size,1)"
   ]
  },
  {
   "cell_type": "code",
   "execution_count": 6,
   "metadata": {
    "collapsed": false
   },
   "outputs": [],
   "source": [
    "model = Sequential()\n",
    "model.add(Conv2D(32, kernel_size=(5, 5), strides=(1, 1),\n",
    "                 activation='relu',\n",
    "                 input_shape=input_shape))\n",
    "model.add(MaxPooling2D(pool_size=(2, 2), strides=(2, 2)))\n",
    "model.add(Conv2D(64, (3, 3), activation='relu'))\n",
    "model.add(MaxPooling2D(pool_size=(2, 2)))\n",
    "model.add(Flatten())\n",
    "model.add(Dense(1000, activation='relu'))\n",
    "model.add(Dense(num_classes, activation='softmax'))"
   ]
  },
  {
   "cell_type": "code",
   "execution_count": 7,
   "metadata": {
    "collapsed": true
   },
   "outputs": [],
   "source": [
    "model.compile(optimizer='rmsprop',\n",
    "              loss='categorical_crossentropy',\n",
    "              metrics=['accuracy'])"
   ]
  },
  {
   "cell_type": "markdown",
   "metadata": {
    "collapsed": true
   },
   "source": [
    "### Train"
   ]
  },
  {
   "cell_type": "code",
   "execution_count": 8,
   "metadata": {
    "collapsed": false
   },
   "outputs": [
    {
     "name": "stdout",
     "output_type": "stream",
     "text": [
      "Epoch 1/10\n",
      "15761/15761 [==============================] - 4s 252us/step - loss: 3.6192 - acc: 0.7691\n",
      "Epoch 2/10\n",
      "15761/15761 [==============================] - 4s 251us/step - loss: 3.6335 - acc: 0.7746\n",
      "Epoch 3/10\n",
      "15761/15761 [==============================] - 4s 262us/step - loss: 3.6335 - acc: 0.7746\n",
      "Epoch 4/10\n",
      "15761/15761 [==============================] - 4s 266us/step - loss: 3.6335 - acc: 0.7746\n",
      "Epoch 5/10\n",
      "15761/15761 [==============================] - 4s 249us/step - loss: 3.6335 - acc: 0.7746\n",
      "Epoch 6/10\n",
      "15761/15761 [==============================] - 4s 249us/step - loss: 3.6335 - acc: 0.7746\n",
      "Epoch 7/10\n",
      "15761/15761 [==============================] - 4s 248us/step - loss: 3.6335 - acc: 0.7746\n",
      "Epoch 8/10\n",
      "15761/15761 [==============================] - 4s 259us/step - loss: 3.6335 - acc: 0.7746\n",
      "Epoch 9/10\n",
      "15761/15761 [==============================] - 5s 291us/step - loss: 3.6335 - acc: 0.7746\n",
      "Epoch 10/10\n",
      "15761/15761 [==============================] - 4s 277us/step - loss: 3.6335 - acc: 0.7746\n"
     ]
    },
    {
     "data": {
      "text/plain": [
       "<keras.callbacks.History at 0x7f363d549710>"
      ]
     },
     "execution_count": 8,
     "metadata": {},
     "output_type": "execute_result"
    }
   ],
   "source": [
    "model.fit(x_train, y_train,\n",
    "          epochs=10,\n",
    "          batch_size=128)"
   ]
  },
  {
   "cell_type": "markdown",
   "metadata": {},
   "source": [
    "### Evaluate"
   ]
  },
  {
   "cell_type": "code",
   "execution_count": 10,
   "metadata": {
    "collapsed": false
   },
   "outputs": [
    {
     "name": "stdout",
     "output_type": "stream",
     "text": [
      "3941/3941 [==============================] - 0s 94us/step\n"
     ]
    }
   ],
   "source": [
    "score = model.evaluate(x_test, y_test, batch_size=128)\n",
    "score"
   ]
  },
  {
   "cell_type": "code",
   "execution_count": 24,
   "metadata": {
    "collapsed": false
   },
   "outputs": [
    {
     "data": {
      "text/plain": [
       "1.0"
      ]
     },
     "execution_count": 24,
     "metadata": {},
     "output_type": "execute_result"
    }
   ],
   "source": [
    "pred_test = model.predict(x_test)\n",
    "pred_test[:,1].mean()"
   ]
  },
  {
   "cell_type": "code",
   "execution_count": null,
   "metadata": {
    "collapsed": true
   },
   "outputs": [],
   "source": []
  },
  {
   "cell_type": "markdown",
   "metadata": {},
   "source": [
    "## ANN"
   ]
  },
  {
   "cell_type": "code",
   "execution_count": null,
   "metadata": {
    "collapsed": true
   },
   "outputs": [],
   "source": [
    "#reshape to array\n",
    "size = x_train.shape\n",
    "x_train = np.reshape(x_train,(size[0],size[1]*size[2]))\n",
    "size = x_test.shape\n",
    "x_test = np.reshape(x_test,(size[0],size[1]*size[2]))\n",
    "x_train.shape,x_test.shape"
   ]
  },
  {
   "cell_type": "code",
   "execution_count": 12,
   "metadata": {
    "collapsed": false
   },
   "outputs": [],
   "source": [
    "# create model\n",
    "model = Sequential()\n",
    "model.add(Dense(1000, input_dim=input_dim, activation='relu'))\n",
    "model.add(Dense(1000, activation='relu'))\n",
    "model.add(Dense(2, activation='sigmoid'))"
   ]
  },
  {
   "cell_type": "code",
   "execution_count": 13,
   "metadata": {
    "collapsed": true
   },
   "outputs": [],
   "source": [
    "model.compile(optimizer='rmsprop',\n",
    "              loss='categorical_crossentropy',\n",
    "              metrics=['accuracy'])"
   ]
  },
  {
   "cell_type": "markdown",
   "metadata": {},
   "source": [
    "### Train"
   ]
  },
  {
   "cell_type": "code",
   "execution_count": 14,
   "metadata": {
    "collapsed": false
   },
   "outputs": [
    {
     "name": "stdout",
     "output_type": "stream",
     "text": [
      "Epoch 1/10\n",
      "15761/15761 [==============================] - 5s 333us/step - loss: 3.6469 - acc: 0.7717\n",
      "Epoch 2/10\n",
      "15761/15761 [==============================] - 4s 266us/step - loss: 3.6335 - acc: 0.7746\n",
      "Epoch 3/10\n",
      "15761/15761 [==============================] - 4s 269us/step - loss: 3.6335 - acc: 0.7746\n",
      "Epoch 4/10\n",
      "15761/15761 [==============================] - 4s 271us/step - loss: 3.6335 - acc: 0.7746\n",
      "Epoch 5/10\n",
      "15761/15761 [==============================] - 4s 276us/step - loss: 3.6335 - acc: 0.7746\n",
      "Epoch 6/10\n",
      "15761/15761 [==============================] - 4s 276us/step - loss: 3.6335 - acc: 0.7746\n",
      "Epoch 7/10\n",
      "15761/15761 [==============================] - 4s 278us/step - loss: 3.6335 - acc: 0.7746\n",
      "Epoch 8/10\n",
      "15761/15761 [==============================] - 4s 279us/step - loss: 3.6335 - acc: 0.7746\n",
      "Epoch 9/10\n",
      "15761/15761 [==============================] - 4s 278us/step - loss: 3.6335 - acc: 0.7746\n",
      "Epoch 10/10\n",
      "15761/15761 [==============================] - 5s 308us/step - loss: 3.6335 - acc: 0.7746\n"
     ]
    },
    {
     "data": {
      "text/plain": [
       "<keras.callbacks.History at 0x7ff7c25fce10>"
      ]
     },
     "execution_count": 14,
     "metadata": {},
     "output_type": "execute_result"
    }
   ],
   "source": [
    "model.fit(x_train, y_train,\n",
    "          epochs=10,\n",
    "          batch_size=128)"
   ]
  },
  {
   "cell_type": "markdown",
   "metadata": {},
   "source": [
    "### Evaluate"
   ]
  },
  {
   "cell_type": "code",
   "execution_count": 15,
   "metadata": {
    "collapsed": false
   },
   "outputs": [
    {
     "name": "stdout",
     "output_type": "stream",
     "text": [
      "3941/3941 [==============================] - 0s 74us/step\n"
     ]
    },
    {
     "data": {
      "text/plain": [
       "[3.6276962008158042, 0.7749302211191351]"
      ]
     },
     "execution_count": 15,
     "metadata": {},
     "output_type": "execute_result"
    }
   ],
   "source": [
    "score = model.evaluate(x_test, y_test, batch_size=128)\n",
    "score"
   ]
  },
  {
   "cell_type": "code",
   "execution_count": 16,
   "metadata": {
    "collapsed": false
   },
   "outputs": [
    {
     "data": {
      "text/plain": [
       "1.0"
      ]
     },
     "execution_count": 16,
     "metadata": {},
     "output_type": "execute_result"
    }
   ],
   "source": [
    "pred_test = model.predict(x_test)\n",
    "pred_test[:,1].mean()"
   ]
  },
  {
   "cell_type": "code",
   "execution_count": null,
   "metadata": {
    "collapsed": true
   },
   "outputs": [],
   "source": []
  },
  {
   "cell_type": "markdown",
   "metadata": {
    "collapsed": true
   },
   "source": [
    "## ANN Generator"
   ]
  },
  {
   "cell_type": "code",
   "execution_count": 6,
   "metadata": {
    "collapsed": true
   },
   "outputs": [],
   "source": [
    "#https://www.kaggle.com/ezietsman/simple-keras-model-with-data-generator\n",
    "def dataGenerator(n_images,name,patche_size=17,expand_dims=False,reshape=True,batche_size=16,prob=0.0):\n",
    "    \n",
    "    #open all images\n",
    "    ims = list()\n",
    "    masks = list()\n",
    "    for i in range(n_images):\n",
    "        ims.append(np.load('data/'+name+'/im_'+str(i+1)+'.npy'))\n",
    "        masks.append(np.load('data/'+name+'/label_'+str(i+1)+'.npy'))\n",
    "    ims = np.array(ims)\n",
    "    masks = np.array(masks)\n",
    "    pts = np.load('data/'+name+'/points.npy')\n",
    "    \n",
    "    #sizes\n",
    "    p = int((patche_size-1)/2)\n",
    "                     \n",
    "    while(1):\n",
    "        patches = list()\n",
    "        labels = list()\n",
    "        for b in range(batche_size):\n",
    "            #random image \n",
    "            i_im = np.random.randint(n_images)\n",
    "            \n",
    "            #fix a line pixel or normal pixel\n",
    "            if np.random.random() < prob:\n",
    "                #Fix a line pixel\n",
    "                line = np.random.randint(pts[i_im][0].shape[0])\n",
    "                x = pts[i_im][1][line]+p\n",
    "                y = pts[i_im][0][line]+p\n",
    "            else:\n",
    "                #Normal pixel\n",
    "                #random pixel\n",
    "                size = np.array(ims[i_im].shape)-2*p\n",
    "                x = np.random.randint(size[1])+p\n",
    "                y = np.random.randint(size[0])+p\n",
    "\n",
    "            #cut\n",
    "            patche = ims[i_im][y-p:y+p+1,x-p:x+p+1]\n",
    "            label = masks[i_im][y,x]\n",
    "\n",
    "            #adjust\n",
    "            if reshape:\n",
    "                patche = np.reshape(patche,patche_size**2)\n",
    "            if expand_dims:\n",
    "                patche = np.expand_dims(patche, axis=2)\n",
    "            \n",
    "            #save\n",
    "            patches.append(patche)\n",
    "            labels.append([label,int(not label)])\n",
    "\n",
    "        patches = np.array(patches,dtype = type(ims[0][0,0]))\n",
    "        labels = np.array(labels,dtype = type(masks[0][0,0]))\n",
    "        yield (patches, labels)\n",
    "                     "
   ]
  },
  {
   "cell_type": "code",
   "execution_count": 7,
   "metadata": {
    "collapsed": true
   },
   "outputs": [],
   "source": [
    "gen_train = dataGenerator(50,'train',prob=0.5)\n",
    "gen_test = dataGenerator(10,'test',prob=0.5)"
   ]
  },
  {
   "cell_type": "code",
   "execution_count": 18,
   "metadata": {
    "collapsed": false
   },
   "outputs": [],
   "source": [
    "# create model\n",
    "# activations = ['relu','softmax','sigmoid']\n",
    "model = Sequential()\n",
    "model.add(Dense(1000, input_dim=input_dim, activation='sigmoid'))\n",
    "model.add(Dense(1000, activation='sigmoid'))\n",
    "model.add(Dense(2, activation='softmax'))"
   ]
  },
  {
   "cell_type": "code",
   "execution_count": 19,
   "metadata": {
    "collapsed": true
   },
   "outputs": [],
   "source": [
    "model.compile(optimizer='rmsprop',\n",
    "              loss='categorical_crossentropy',\n",
    "              metrics=['accuracy'])"
   ]
  },
  {
   "cell_type": "code",
   "execution_count": 20,
   "metadata": {
    "collapsed": false
   },
   "outputs": [
    {
     "name": "stderr",
     "output_type": "stream",
     "text": [
      "/home/cordeiro/env/py3im/lib/python3.6/site-packages/ipykernel_launcher.py:1: UserWarning: The semantics of the Keras 2 argument `steps_per_epoch` is not the same as the Keras 1 argument `samples_per_epoch`. `steps_per_epoch` is the number of batches to draw from the generator at each epoch. Basically steps_per_epoch = samples_per_epoch/batch_size. Similarly `nb_val_samples`->`validation_steps` and `val_samples`->`steps` arguments have changed. Update your method calls accordingly.\n",
      "  \"\"\"Entry point for launching an IPython kernel.\n",
      "/home/cordeiro/env/py3im/lib/python3.6/site-packages/ipykernel_launcher.py:1: UserWarning: Update your `fit_generator` call to the Keras 2 API: `fit_generator(<generator..., steps_per_epoch=32, epochs=20)`\n",
      "  \"\"\"Entry point for launching an IPython kernel.\n"
     ]
    },
    {
     "name": "stdout",
     "output_type": "stream",
     "text": [
      "Epoch 1/20\n",
      "32/32 [==============================] - 1s 31ms/step - loss: 0.7022 - acc: 0.8633\n",
      "Epoch 2/20\n",
      "32/32 [==============================] - 1s 26ms/step - loss: 0.1293 - acc: 0.9492\n",
      "Epoch 3/20\n",
      "32/32 [==============================] - 1s 26ms/step - loss: 0.0027 - acc: 1.0000\n",
      "Epoch 4/20\n",
      "32/32 [==============================] - 1s 26ms/step - loss: 0.1882 - acc: 0.9512\n",
      "Epoch 5/20\n",
      "32/32 [==============================] - 1s 26ms/step - loss: 0.1603 - acc: 0.9648\n",
      "Epoch 6/20\n",
      "32/32 [==============================] - 1s 27ms/step - loss: 0.0536 - acc: 0.9863\n",
      "Epoch 7/20\n",
      "32/32 [==============================] - 1s 27ms/step - loss: 0.1381 - acc: 0.9629\n",
      "Epoch 8/20\n",
      "32/32 [==============================] - 1s 28ms/step - loss: 0.0166 - acc: 0.9922\n",
      "Epoch 9/20\n",
      "32/32 [==============================] - 1s 28ms/step - loss: 0.1249 - acc: 0.9805\n",
      "Epoch 10/20\n",
      "32/32 [==============================] - 1s 28ms/step - loss: 0.0253 - acc: 0.9902\n",
      "Epoch 11/20\n",
      "32/32 [==============================] - 1s 32ms/step - loss: 0.1537 - acc: 0.9688\n",
      "Epoch 12/20\n",
      "32/32 [==============================] - 1s 29ms/step - loss: 0.1403 - acc: 0.9746\n",
      "Epoch 13/20\n",
      "32/32 [==============================] - 1s 33ms/step - loss: 0.0087 - acc: 0.9980\n",
      "Epoch 14/20\n",
      "32/32 [==============================] - 1s 30ms/step - loss: 0.1183 - acc: 0.9688\n",
      "Epoch 15/20\n",
      "32/32 [==============================] - 1s 30ms/step - loss: 0.0943 - acc: 0.9785\n",
      "Epoch 16/20\n",
      "32/32 [==============================] - 1s 30ms/step - loss: 0.0802 - acc: 0.9746\n",
      "Epoch 17/20\n",
      "32/32 [==============================] - 1s 30ms/step - loss: 0.0160 - acc: 0.9941\n",
      "Epoch 18/20\n",
      "32/32 [==============================] - 1s 31ms/step - loss: 0.0101 - acc: 0.9961\n",
      "Epoch 19/20\n",
      "32/32 [==============================] - 1s 33ms/step - loss: 0.0349 - acc: 0.9902\n",
      "Epoch 20/20\n",
      "32/32 [==============================] - 1s 32ms/step - loss: 0.0282 - acc: 0.9902\n"
     ]
    },
    {
     "data": {
      "text/plain": [
       "<keras.callbacks.History at 0x7f0fcf66ae48>"
      ]
     },
     "execution_count": 20,
     "metadata": {},
     "output_type": "execute_result"
    }
   ],
   "source": [
    "model.fit_generator(gen_train, samples_per_epoch=32, nb_epoch=20)"
   ]
  },
  {
   "cell_type": "code",
   "execution_count": 22,
   "metadata": {
    "collapsed": false
   },
   "outputs": [
    {
     "data": {
      "text/plain": [
       "[0.03392950473676137, 0.978515625]"
      ]
     },
     "execution_count": 22,
     "metadata": {},
     "output_type": "execute_result"
    }
   ],
   "source": [
    "score = model.evaluate_generator(gen_test,steps=128)\n",
    "score"
   ]
  },
  {
   "cell_type": "code",
   "execution_count": 30,
   "metadata": {
    "collapsed": false
   },
   "outputs": [
    {
     "name": "stdout",
     "output_type": "stream",
     "text": [
      "128/128 [==============================] - 0s 4ms/step\n"
     ]
    }
   ],
   "source": [
    "pred_test = model.predict_generator(gen_test,steps=128,verbose=1)"
   ]
  },
  {
   "cell_type": "code",
   "execution_count": 32,
   "metadata": {
    "collapsed": false
   },
   "outputs": [
    {
     "data": {
      "text/plain": [
       "array([[1.9154670e-03, 9.9808455e-01],\n",
       "       [1.6930326e-03, 9.9830699e-01],\n",
       "       [2.0179043e-03, 9.9798203e-01],\n",
       "       ...,\n",
       "       [1.8324212e-03, 9.9816751e-01],\n",
       "       [1.9077038e-03, 9.9809223e-01],\n",
       "       [1.0000000e+00, 9.3288519e-12]], dtype=float32)"
      ]
     },
     "execution_count": 32,
     "metadata": {},
     "output_type": "execute_result"
    }
   ],
   "source": [
    "pred_test"
   ]
  },
  {
   "cell_type": "code",
   "execution_count": null,
   "metadata": {
    "collapsed": true
   },
   "outputs": [],
   "source": []
  }
 ],
 "metadata": {
  "kernelspec": {
   "display_name": "py3im",
   "language": "python",
   "name": "py3im"
  },
  "language_info": {
   "codemirror_mode": {
    "name": "ipython",
    "version": 3
   },
   "file_extension": ".py",
   "mimetype": "text/x-python",
   "name": "python",
   "nbconvert_exporter": "python",
   "pygments_lexer": "ipython3",
   "version": "3.6.3"
  }
 },
 "nbformat": 4,
 "nbformat_minor": 2
}

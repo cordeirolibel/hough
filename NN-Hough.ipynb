{
 "cells": [
  {
   "cell_type": "code",
   "execution_count": 1,
   "metadata": {
    "collapsed": false
   },
   "outputs": [
    {
     "name": "stderr",
     "output_type": "stream",
     "text": [
      "Using TensorFlow backend.\n"
     ]
    }
   ],
   "source": [
    "from lines_generator import dataGenerator\n",
    "import numpy as np\n",
    "import keras\n",
    "from keras import Sequential\n",
    "from keras.layers import Dense,Conv2D, MaxPooling2D, Flatten"
   ]
  },
  {
   "cell_type": "code",
   "execution_count": 2,
   "metadata": {
    "collapsed": true
   },
   "outputs": [],
   "source": [
    "patche_size = 17\n",
    "input_dim = patche_size**2"
   ]
  },
  {
   "cell_type": "markdown",
   "metadata": {
    "collapsed": true
   },
   "source": [
    "## ANN Generator"
   ]
  },
  {
   "cell_type": "code",
   "execution_count": 3,
   "metadata": {
    "collapsed": true
   },
   "outputs": [],
   "source": [
    "gen_train = dataGenerator(50,'train',prob=0.5)\n",
    "gen_test = dataGenerator(10,'test',prob=0.5)"
   ]
  },
  {
   "cell_type": "code",
   "execution_count": 7,
   "metadata": {
    "collapsed": false
   },
   "outputs": [],
   "source": [
    "# create model\n",
    "# activations = ['relu','softmax','sigmoid']\n",
    "model = Sequential()\n",
    "model.add(Dense(1000, input_dim=input_dim, activation='sigmoid'))\n",
    "model.add(Dense(1000, activation='sigmoid'))\n",
    "model.add(Dense(2, activation='softmax'))"
   ]
  },
  {
   "cell_type": "code",
   "execution_count": 8,
   "metadata": {
    "collapsed": true
   },
   "outputs": [],
   "source": [
    "model.compile(optimizer='rmsprop',\n",
    "              loss='categorical_crossentropy',\n",
    "              metrics=['accuracy'])"
   ]
  },
  {
   "cell_type": "code",
   "execution_count": 9,
   "metadata": {
    "collapsed": false
   },
   "outputs": [
    {
     "name": "stderr",
     "output_type": "stream",
     "text": [
      "/home/cordeiro/env/py3im/lib/python3.6/site-packages/ipykernel_launcher.py:1: UserWarning: The semantics of the Keras 2 argument `steps_per_epoch` is not the same as the Keras 1 argument `samples_per_epoch`. `steps_per_epoch` is the number of batches to draw from the generator at each epoch. Basically steps_per_epoch = samples_per_epoch/batch_size. Similarly `nb_val_samples`->`validation_steps` and `val_samples`->`steps` arguments have changed. Update your method calls accordingly.\n",
      "  \"\"\"Entry point for launching an IPython kernel.\n",
      "/home/cordeiro/env/py3im/lib/python3.6/site-packages/ipykernel_launcher.py:1: UserWarning: Update your `fit_generator` call to the Keras 2 API: `fit_generator(<generator..., steps_per_epoch=64, epochs=20)`\n",
      "  \"\"\"Entry point for launching an IPython kernel.\n"
     ]
    },
    {
     "name": "stdout",
     "output_type": "stream",
     "text": [
      "Epoch 1/20\n",
      "64/64 [==============================] - 2s 27ms/step - loss: 0.3941 - acc: 0.9248\n",
      "Epoch 2/20\n",
      "64/64 [==============================] - 2s 24ms/step - loss: 0.1014 - acc: 0.9727\n",
      "Epoch 3/20\n",
      "64/64 [==============================] - 2s 24ms/step - loss: 0.0520 - acc: 0.9795\n",
      "Epoch 4/20\n",
      "64/64 [==============================] - 2s 24ms/step - loss: 0.0974 - acc: 0.9844\n",
      "Epoch 5/20\n",
      "64/64 [==============================] - 2s 24ms/step - loss: 0.0799 - acc: 0.9844\n",
      "Epoch 6/20\n",
      "64/64 [==============================] - 2s 26ms/step - loss: 0.1465 - acc: 0.9717\n",
      "Epoch 7/20\n",
      "64/64 [==============================] - 2s 26ms/step - loss: 0.0660 - acc: 0.9766\n",
      "Epoch 8/20\n",
      "64/64 [==============================] - 2s 27ms/step - loss: 0.0446 - acc: 0.9844\n",
      "Epoch 9/20\n",
      "64/64 [==============================] - 2s 28ms/step - loss: 0.0771 - acc: 0.9805\n",
      "Epoch 10/20\n",
      "64/64 [==============================] - 1s 23ms/step - loss: 0.0368 - acc: 0.9893\n",
      "Epoch 11/20\n",
      "64/64 [==============================] - 2s 27ms/step - loss: 0.0326 - acc: 0.9932\n",
      "Epoch 12/20\n",
      "64/64 [==============================] - 2s 29ms/step - loss: 0.0893 - acc: 0.9795\n",
      "Epoch 13/20\n",
      "64/64 [==============================] - 2s 25ms/step - loss: 0.0496 - acc: 0.9883\n",
      "Epoch 14/20\n",
      "64/64 [==============================] - 2s 29ms/step - loss: 0.0294 - acc: 0.9902\n",
      "Epoch 15/20\n",
      "64/64 [==============================] - 2s 27ms/step - loss: 0.0101 - acc: 0.9951\n",
      "Epoch 16/20\n",
      "64/64 [==============================] - 2s 34ms/step - loss: 0.0612 - acc: 0.9902\n",
      "Epoch 17/20\n",
      "64/64 [==============================] - 2s 28ms/step - loss: 0.0530 - acc: 0.9844\n",
      "Epoch 18/20\n",
      "64/64 [==============================] - 2s 30ms/step - loss: 0.0279 - acc: 0.9941\n",
      "Epoch 19/20\n",
      "64/64 [==============================] - 2s 31ms/step - loss: 0.0395 - acc: 0.9941\n",
      "Epoch 20/20\n",
      "64/64 [==============================] - 2s 25ms/step - loss: 0.0560 - acc: 0.9873\n"
     ]
    },
    {
     "data": {
      "text/plain": [
       "<keras.callbacks.History at 0x7f6920094860>"
      ]
     },
     "execution_count": 9,
     "metadata": {},
     "output_type": "execute_result"
    }
   ],
   "source": [
    "model.fit_generator(gen_train, samples_per_epoch=64, nb_epoch=20)"
   ]
  },
  {
   "cell_type": "code",
   "execution_count": 10,
   "metadata": {
    "collapsed": false
   },
   "outputs": [
    {
     "data": {
      "text/plain": [
       "[0.04295787410410412, 0.99267578125]"
      ]
     },
     "execution_count": 10,
     "metadata": {},
     "output_type": "execute_result"
    }
   ],
   "source": [
    "score = model.evaluate_generator(gen_test,steps=128)\n",
    "score"
   ]
  },
  {
   "cell_type": "code",
   "execution_count": 11,
   "metadata": {
    "collapsed": false
   },
   "outputs": [
    {
     "name": "stdout",
     "output_type": "stream",
     "text": [
      "128/128 [==============================] - 0s 3ms/step\n"
     ]
    }
   ],
   "source": [
    "pred_test = model.predict_generator(gen_test,steps=128,verbose=1)"
   ]
  },
  {
   "cell_type": "code",
   "execution_count": 12,
   "metadata": {
    "collapsed": false
   },
   "outputs": [
    {
     "data": {
      "text/plain": [
       "array([[1.7437924e-02, 9.8256207e-01],\n",
       "       [1.0000000e+00, 9.4904253e-09],\n",
       "       [1.0000000e+00, 2.6452112e-09],\n",
       "       ...,\n",
       "       [1.0000000e+00, 1.7994246e-08],\n",
       "       [1.0000000e+00, 3.6045578e-09],\n",
       "       [1.9127239e-02, 9.8087275e-01]], dtype=float32)"
      ]
     },
     "execution_count": 12,
     "metadata": {},
     "output_type": "execute_result"
    }
   ],
   "source": [
    "pred_test"
   ]
  },
  {
   "cell_type": "markdown",
   "metadata": {
    "collapsed": true
   },
   "source": [
    "## Save"
   ]
  },
  {
   "cell_type": "code",
   "execution_count": 13,
   "metadata": {
    "collapsed": true
   },
   "outputs": [],
   "source": [
    "model.save('models/model2.h5')"
   ]
  },
  {
   "cell_type": "code",
   "execution_count": null,
   "metadata": {
    "collapsed": true
   },
   "outputs": [],
   "source": []
  },
  {
   "cell_type": "code",
   "execution_count": null,
   "metadata": {
    "collapsed": true
   },
   "outputs": [],
   "source": []
  },
  {
   "cell_type": "code",
   "execution_count": null,
   "metadata": {
    "collapsed": true
   },
   "outputs": [],
   "source": []
  }
 ],
 "metadata": {
  "kernelspec": {
   "display_name": "py3im",
   "language": "python",
   "name": "py3im"
  },
  "language_info": {
   "codemirror_mode": {
    "name": "ipython",
    "version": 3
   },
   "file_extension": ".py",
   "mimetype": "text/x-python",
   "name": "python",
   "nbconvert_exporter": "python",
   "pygments_lexer": "ipython3",
   "version": "3.6.3"
  }
 },
 "nbformat": 4,
 "nbformat_minor": 2
}
